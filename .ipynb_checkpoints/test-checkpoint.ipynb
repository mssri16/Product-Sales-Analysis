{
 "cells": [
  {
   "cell_type": "code",
   "execution_count": 1,
   "metadata": {},
   "outputs": [],
   "source": [
    "import pandas as pd\n",
    "import numpy as np"
   ]
  },
  {
   "cell_type": "code",
   "execution_count": 2,
   "metadata": {},
   "outputs": [],
   "source": [
    "data1 = pd.read_excel(open('/home/conex/ma/MAA.xlsx', 'rb'), sheet_name='data_1', engine='openpyxl')  \n",
    "data2 = pd.read_excel(open('/home/conex/ma/MAA.xlsx', 'rb'), sheet_name='data_2' , engine='openpyxl')"
   ]
  },
  {
   "cell_type": "code",
   "execution_count": 3,
   "metadata": {},
   "outputs": [
    {
     "data": {
      "text/html": [
       "<div>\n",
       "<style scoped>\n",
       "    .dataframe tbody tr th:only-of-type {\n",
       "        vertical-align: middle;\n",
       "    }\n",
       "\n",
       "    .dataframe tbody tr th {\n",
       "        vertical-align: top;\n",
       "    }\n",
       "\n",
       "    .dataframe thead th {\n",
       "        text-align: right;\n",
       "    }\n",
       "</style>\n",
       "<table border=\"1\" class=\"dataframe\">\n",
       "  <thead>\n",
       "    <tr style=\"text-align: right;\">\n",
       "      <th></th>\n",
       "      <th>product</th>\n",
       "      <th>date</th>\n",
       "      <th>purchases</th>\n",
       "      <th>sales</th>\n",
       "      <th>views</th>\n",
       "      <th>category</th>\n",
       "    </tr>\n",
       "  </thead>\n",
       "  <tbody>\n",
       "    <tr>\n",
       "      <th>0</th>\n",
       "      <td>7842665206627369984</td>\n",
       "      <td>2020-08-10</td>\n",
       "      <td>1</td>\n",
       "      <td>739</td>\n",
       "      <td>146</td>\n",
       "      <td>C</td>\n",
       "    </tr>\n",
       "    <tr>\n",
       "      <th>1</th>\n",
       "      <td>8305646749449799680</td>\n",
       "      <td>2020-08-13</td>\n",
       "      <td>0</td>\n",
       "      <td>0</td>\n",
       "      <td>14</td>\n",
       "      <td>B</td>\n",
       "    </tr>\n",
       "    <tr>\n",
       "      <th>2</th>\n",
       "      <td>5450472141089500160</td>\n",
       "      <td>2020-08-10</td>\n",
       "      <td>0</td>\n",
       "      <td>0</td>\n",
       "      <td>3</td>\n",
       "      <td>A</td>\n",
       "    </tr>\n",
       "    <tr>\n",
       "      <th>3</th>\n",
       "      <td>10094066895798999040</td>\n",
       "      <td>2020-08-15</td>\n",
       "      <td>0</td>\n",
       "      <td>0</td>\n",
       "      <td>30</td>\n",
       "      <td>C</td>\n",
       "    </tr>\n",
       "    <tr>\n",
       "      <th>4</th>\n",
       "      <td>10071310689183000576</td>\n",
       "      <td>2020-08-15</td>\n",
       "      <td>0</td>\n",
       "      <td>0</td>\n",
       "      <td>3</td>\n",
       "      <td>A</td>\n",
       "    </tr>\n",
       "    <tr>\n",
       "      <th>...</th>\n",
       "      <td>...</td>\n",
       "      <td>...</td>\n",
       "      <td>...</td>\n",
       "      <td>...</td>\n",
       "      <td>...</td>\n",
       "      <td>...</td>\n",
       "    </tr>\n",
       "    <tr>\n",
       "      <th>3833</th>\n",
       "      <td>8178739008379410432</td>\n",
       "      <td>2020-08-16</td>\n",
       "      <td>0</td>\n",
       "      <td>0</td>\n",
       "      <td>32</td>\n",
       "      <td>B</td>\n",
       "    </tr>\n",
       "    <tr>\n",
       "      <th>3834</th>\n",
       "      <td>3550514108200730112</td>\n",
       "      <td>2020-08-20</td>\n",
       "      <td>0</td>\n",
       "      <td>0</td>\n",
       "      <td>9</td>\n",
       "      <td>A</td>\n",
       "    </tr>\n",
       "    <tr>\n",
       "      <th>3835</th>\n",
       "      <td>4625808539122209792</td>\n",
       "      <td>2020-08-18</td>\n",
       "      <td>0</td>\n",
       "      <td>0</td>\n",
       "      <td>6</td>\n",
       "      <td>A</td>\n",
       "    </tr>\n",
       "    <tr>\n",
       "      <th>3836</th>\n",
       "      <td>1047806700007840000</td>\n",
       "      <td>2020-08-11</td>\n",
       "      <td>1</td>\n",
       "      <td>3549</td>\n",
       "      <td>6</td>\n",
       "      <td>A</td>\n",
       "    </tr>\n",
       "    <tr>\n",
       "      <th>3837</th>\n",
       "      <td>122875819731088992</td>\n",
       "      <td>2020-08-20</td>\n",
       "      <td>0</td>\n",
       "      <td>0</td>\n",
       "      <td>35</td>\n",
       "      <td>C</td>\n",
       "    </tr>\n",
       "  </tbody>\n",
       "</table>\n",
       "<p>3838 rows × 6 columns</p>\n",
       "</div>"
      ],
      "text/plain": [
       "                   product       date  purchases  sales  views category\n",
       "0      7842665206627369984 2020-08-10          1    739    146        C\n",
       "1      8305646749449799680 2020-08-13          0      0     14        B\n",
       "2      5450472141089500160 2020-08-10          0      0      3        A\n",
       "3     10094066895798999040 2020-08-15          0      0     30        C\n",
       "4     10071310689183000576 2020-08-15          0      0      3        A\n",
       "...                    ...        ...        ...    ...    ...      ...\n",
       "3833   8178739008379410432 2020-08-16          0      0     32        B\n",
       "3834   3550514108200730112 2020-08-20          0      0      9        A\n",
       "3835   4625808539122209792 2020-08-18          0      0      6        A\n",
       "3836   1047806700007840000 2020-08-11          1   3549      6        A\n",
       "3837    122875819731088992 2020-08-20          0      0     35        C\n",
       "\n",
       "[3838 rows x 6 columns]"
      ]
     },
     "execution_count": 3,
     "metadata": {},
     "output_type": "execute_result"
    }
   ],
   "source": [
    "data1"
   ]
  },
  {
   "cell_type": "code",
   "execution_count": 4,
   "metadata": {},
   "outputs": [
    {
     "data": {
      "text/plain": [
       "(3838,)"
      ]
     },
     "execution_count": 4,
     "metadata": {},
     "output_type": "execute_result"
    }
   ],
   "source": [
    "data1['product'].unique().shape"
   ]
  },
  {
   "cell_type": "code",
   "execution_count": 5,
   "metadata": {},
   "outputs": [
    {
     "data": {
      "text/html": [
       "<div>\n",
       "<style scoped>\n",
       "    .dataframe tbody tr th:only-of-type {\n",
       "        vertical-align: middle;\n",
       "    }\n",
       "\n",
       "    .dataframe tbody tr th {\n",
       "        vertical-align: top;\n",
       "    }\n",
       "\n",
       "    .dataframe thead th {\n",
       "        text-align: right;\n",
       "    }\n",
       "</style>\n",
       "<table border=\"1\" class=\"dataframe\">\n",
       "  <thead>\n",
       "    <tr style=\"text-align: right;\">\n",
       "      <th></th>\n",
       "      <th>product</th>\n",
       "      <th>date</th>\n",
       "      <th>leadtime</th>\n",
       "    </tr>\n",
       "  </thead>\n",
       "  <tbody>\n",
       "    <tr>\n",
       "      <th>0</th>\n",
       "      <td>16020706659466600448</td>\n",
       "      <td>2020-08-11</td>\n",
       "      <td>92</td>\n",
       "    </tr>\n",
       "    <tr>\n",
       "      <th>1</th>\n",
       "      <td>18056652247731699712</td>\n",
       "      <td>2020-08-15</td>\n",
       "      <td>0</td>\n",
       "    </tr>\n",
       "    <tr>\n",
       "      <th>2</th>\n",
       "      <td>4568278595690840064</td>\n",
       "      <td>2020-08-16</td>\n",
       "      <td>49</td>\n",
       "    </tr>\n",
       "    <tr>\n",
       "      <th>3</th>\n",
       "      <td>15028937802073700352</td>\n",
       "      <td>2020-08-11</td>\n",
       "      <td>16</td>\n",
       "    </tr>\n",
       "    <tr>\n",
       "      <th>4</th>\n",
       "      <td>17666243546314799104</td>\n",
       "      <td>2020-08-13</td>\n",
       "      <td>0</td>\n",
       "    </tr>\n",
       "    <tr>\n",
       "      <th>...</th>\n",
       "      <td>...</td>\n",
       "      <td>...</td>\n",
       "      <td>...</td>\n",
       "    </tr>\n",
       "    <tr>\n",
       "      <th>3833</th>\n",
       "      <td>8890767550147970048</td>\n",
       "      <td>2020-08-13</td>\n",
       "      <td>0</td>\n",
       "    </tr>\n",
       "    <tr>\n",
       "      <th>3834</th>\n",
       "      <td>3868654735287669760</td>\n",
       "      <td>2020-08-11</td>\n",
       "      <td>0</td>\n",
       "    </tr>\n",
       "    <tr>\n",
       "      <th>3835</th>\n",
       "      <td>10501262977212999680</td>\n",
       "      <td>2020-08-11</td>\n",
       "      <td>44</td>\n",
       "    </tr>\n",
       "    <tr>\n",
       "      <th>3836</th>\n",
       "      <td>15239090271318999040</td>\n",
       "      <td>2020-08-17</td>\n",
       "      <td>0</td>\n",
       "    </tr>\n",
       "    <tr>\n",
       "      <th>3837</th>\n",
       "      <td>11126981529238200320</td>\n",
       "      <td>2020-08-20</td>\n",
       "      <td>31</td>\n",
       "    </tr>\n",
       "  </tbody>\n",
       "</table>\n",
       "<p>3838 rows × 3 columns</p>\n",
       "</div>"
      ],
      "text/plain": [
       "                   product       date  leadtime\n",
       "0     16020706659466600448 2020-08-11        92\n",
       "1     18056652247731699712 2020-08-15         0\n",
       "2      4568278595690840064 2020-08-16        49\n",
       "3     15028937802073700352 2020-08-11        16\n",
       "4     17666243546314799104 2020-08-13         0\n",
       "...                    ...        ...       ...\n",
       "3833   8890767550147970048 2020-08-13         0\n",
       "3834   3868654735287669760 2020-08-11         0\n",
       "3835  10501262977212999680 2020-08-11        44\n",
       "3836  15239090271318999040 2020-08-17         0\n",
       "3837  11126981529238200320 2020-08-20        31\n",
       "\n",
       "[3838 rows x 3 columns]"
      ]
     },
     "execution_count": 5,
     "metadata": {},
     "output_type": "execute_result"
    }
   ],
   "source": [
    "data2"
   ]
  },
  {
   "cell_type": "code",
   "execution_count": 6,
   "metadata": {},
   "outputs": [
    {
     "data": {
      "text/plain": [
       "(3838,)"
      ]
     },
     "execution_count": 6,
     "metadata": {},
     "output_type": "execute_result"
    }
   ],
   "source": [
    "data2['product'].unique().shape"
   ]
  },
  {
   "cell_type": "code",
   "execution_count": 7,
   "metadata": {},
   "outputs": [],
   "source": [
    "merged_data = pd.merge(data1, data2, left_on=['product','date'], right_on =['product','date'])"
   ]
  },
  {
   "cell_type": "code",
   "execution_count": 8,
   "metadata": {},
   "outputs": [
    {
     "data": {
      "text/plain": [
       "product              uint64\n",
       "date         datetime64[ns]\n",
       "purchases             int64\n",
       "sales                 int64\n",
       "views                 int64\n",
       "category             object\n",
       "leadtime              int64\n",
       "dtype: object"
      ]
     },
     "execution_count": 8,
     "metadata": {},
     "output_type": "execute_result"
    }
   ],
   "source": [
    "merged_data.dtypes"
   ]
  },
  {
   "cell_type": "code",
   "execution_count": 9,
   "metadata": {},
   "outputs": [
    {
     "data": {
      "text/plain": [
       "(3838, 7)"
      ]
     },
     "execution_count": 9,
     "metadata": {},
     "output_type": "execute_result"
    }
   ],
   "source": [
    "merged_data.shape"
   ]
  },
  {
   "cell_type": "code",
   "execution_count": 10,
   "metadata": {},
   "outputs": [],
   "source": [
    "merged_data['conversion_rate'] = np.where(merged_data['views']!= 0, merged_data['purchases']/merged_data['views'], 0)\n",
    "#df['conversion_rate'] = df['purchases']*100/df['views']"
   ]
  },
  {
   "cell_type": "code",
   "execution_count": 11,
   "metadata": {},
   "outputs": [
    {
     "data": {
      "text/html": [
       "<div>\n",
       "<style scoped>\n",
       "    .dataframe tbody tr th:only-of-type {\n",
       "        vertical-align: middle;\n",
       "    }\n",
       "\n",
       "    .dataframe tbody tr th {\n",
       "        vertical-align: top;\n",
       "    }\n",
       "\n",
       "    .dataframe thead th {\n",
       "        text-align: right;\n",
       "    }\n",
       "</style>\n",
       "<table border=\"1\" class=\"dataframe\">\n",
       "  <thead>\n",
       "    <tr style=\"text-align: right;\">\n",
       "      <th></th>\n",
       "      <th>product</th>\n",
       "      <th>date</th>\n",
       "      <th>purchases</th>\n",
       "      <th>sales</th>\n",
       "      <th>views</th>\n",
       "      <th>category</th>\n",
       "      <th>leadtime</th>\n",
       "      <th>conversion_rate</th>\n",
       "    </tr>\n",
       "  </thead>\n",
       "  <tbody>\n",
       "    <tr>\n",
       "      <th>0</th>\n",
       "      <td>7842665206627369984</td>\n",
       "      <td>2020-08-10</td>\n",
       "      <td>1</td>\n",
       "      <td>739</td>\n",
       "      <td>146</td>\n",
       "      <td>C</td>\n",
       "      <td>0</td>\n",
       "      <td>0.006849</td>\n",
       "    </tr>\n",
       "    <tr>\n",
       "      <th>1</th>\n",
       "      <td>8305646749449799680</td>\n",
       "      <td>2020-08-13</td>\n",
       "      <td>0</td>\n",
       "      <td>0</td>\n",
       "      <td>14</td>\n",
       "      <td>B</td>\n",
       "      <td>0</td>\n",
       "      <td>0.000000</td>\n",
       "    </tr>\n",
       "    <tr>\n",
       "      <th>2</th>\n",
       "      <td>5450472141089500160</td>\n",
       "      <td>2020-08-10</td>\n",
       "      <td>0</td>\n",
       "      <td>0</td>\n",
       "      <td>3</td>\n",
       "      <td>A</td>\n",
       "      <td>0</td>\n",
       "      <td>0.000000</td>\n",
       "    </tr>\n",
       "    <tr>\n",
       "      <th>3</th>\n",
       "      <td>10094066895798999040</td>\n",
       "      <td>2020-08-15</td>\n",
       "      <td>0</td>\n",
       "      <td>0</td>\n",
       "      <td>30</td>\n",
       "      <td>C</td>\n",
       "      <td>0</td>\n",
       "      <td>0.000000</td>\n",
       "    </tr>\n",
       "    <tr>\n",
       "      <th>4</th>\n",
       "      <td>10071310689183000576</td>\n",
       "      <td>2020-08-15</td>\n",
       "      <td>0</td>\n",
       "      <td>0</td>\n",
       "      <td>3</td>\n",
       "      <td>A</td>\n",
       "      <td>13</td>\n",
       "      <td>0.000000</td>\n",
       "    </tr>\n",
       "    <tr>\n",
       "      <th>...</th>\n",
       "      <td>...</td>\n",
       "      <td>...</td>\n",
       "      <td>...</td>\n",
       "      <td>...</td>\n",
       "      <td>...</td>\n",
       "      <td>...</td>\n",
       "      <td>...</td>\n",
       "      <td>...</td>\n",
       "    </tr>\n",
       "    <tr>\n",
       "      <th>3833</th>\n",
       "      <td>8178739008379410432</td>\n",
       "      <td>2020-08-16</td>\n",
       "      <td>0</td>\n",
       "      <td>0</td>\n",
       "      <td>32</td>\n",
       "      <td>B</td>\n",
       "      <td>0</td>\n",
       "      <td>0.000000</td>\n",
       "    </tr>\n",
       "    <tr>\n",
       "      <th>3834</th>\n",
       "      <td>3550514108200730112</td>\n",
       "      <td>2020-08-20</td>\n",
       "      <td>0</td>\n",
       "      <td>0</td>\n",
       "      <td>9</td>\n",
       "      <td>A</td>\n",
       "      <td>0</td>\n",
       "      <td>0.000000</td>\n",
       "    </tr>\n",
       "    <tr>\n",
       "      <th>3835</th>\n",
       "      <td>4625808539122209792</td>\n",
       "      <td>2020-08-18</td>\n",
       "      <td>0</td>\n",
       "      <td>0</td>\n",
       "      <td>6</td>\n",
       "      <td>A</td>\n",
       "      <td>141</td>\n",
       "      <td>0.000000</td>\n",
       "    </tr>\n",
       "    <tr>\n",
       "      <th>3836</th>\n",
       "      <td>1047806700007840000</td>\n",
       "      <td>2020-08-11</td>\n",
       "      <td>1</td>\n",
       "      <td>3549</td>\n",
       "      <td>6</td>\n",
       "      <td>A</td>\n",
       "      <td>0</td>\n",
       "      <td>0.166667</td>\n",
       "    </tr>\n",
       "    <tr>\n",
       "      <th>3837</th>\n",
       "      <td>122875819731088992</td>\n",
       "      <td>2020-08-20</td>\n",
       "      <td>0</td>\n",
       "      <td>0</td>\n",
       "      <td>35</td>\n",
       "      <td>C</td>\n",
       "      <td>0</td>\n",
       "      <td>0.000000</td>\n",
       "    </tr>\n",
       "  </tbody>\n",
       "</table>\n",
       "<p>3838 rows × 8 columns</p>\n",
       "</div>"
      ],
      "text/plain": [
       "                   product       date  purchases  sales  views category  \\\n",
       "0      7842665206627369984 2020-08-10          1    739    146        C   \n",
       "1      8305646749449799680 2020-08-13          0      0     14        B   \n",
       "2      5450472141089500160 2020-08-10          0      0      3        A   \n",
       "3     10094066895798999040 2020-08-15          0      0     30        C   \n",
       "4     10071310689183000576 2020-08-15          0      0      3        A   \n",
       "...                    ...        ...        ...    ...    ...      ...   \n",
       "3833   8178739008379410432 2020-08-16          0      0     32        B   \n",
       "3834   3550514108200730112 2020-08-20          0      0      9        A   \n",
       "3835   4625808539122209792 2020-08-18          0      0      6        A   \n",
       "3836   1047806700007840000 2020-08-11          1   3549      6        A   \n",
       "3837    122875819731088992 2020-08-20          0      0     35        C   \n",
       "\n",
       "      leadtime  conversion_rate  \n",
       "0            0         0.006849  \n",
       "1            0         0.000000  \n",
       "2            0         0.000000  \n",
       "3            0         0.000000  \n",
       "4           13         0.000000  \n",
       "...        ...              ...  \n",
       "3833         0         0.000000  \n",
       "3834         0         0.000000  \n",
       "3835       141         0.000000  \n",
       "3836         0         0.166667  \n",
       "3837         0         0.000000  \n",
       "\n",
       "[3838 rows x 8 columns]"
      ]
     },
     "execution_count": 11,
     "metadata": {},
     "output_type": "execute_result"
    }
   ],
   "source": [
    "merged_data"
   ]
  },
  {
   "cell_type": "code",
   "execution_count": 12,
   "metadata": {},
   "outputs": [
    {
     "data": {
      "text/html": [
       "<div>\n",
       "<style scoped>\n",
       "    .dataframe tbody tr th:only-of-type {\n",
       "        vertical-align: middle;\n",
       "    }\n",
       "\n",
       "    .dataframe tbody tr th {\n",
       "        vertical-align: top;\n",
       "    }\n",
       "\n",
       "    .dataframe thead th {\n",
       "        text-align: right;\n",
       "    }\n",
       "</style>\n",
       "<table border=\"1\" class=\"dataframe\">\n",
       "  <thead>\n",
       "    <tr style=\"text-align: right;\">\n",
       "      <th></th>\n",
       "      <th>product</th>\n",
       "      <th>purchases</th>\n",
       "      <th>sales</th>\n",
       "      <th>views</th>\n",
       "      <th>leadtime</th>\n",
       "      <th>conversion_rate</th>\n",
       "    </tr>\n",
       "  </thead>\n",
       "  <tbody>\n",
       "    <tr>\n",
       "      <th>product</th>\n",
       "      <td>1.000000</td>\n",
       "      <td>0.007897</td>\n",
       "      <td>0.011869</td>\n",
       "      <td>0.014069</td>\n",
       "      <td>0.019659</td>\n",
       "      <td>0.009248</td>\n",
       "    </tr>\n",
       "    <tr>\n",
       "      <th>purchases</th>\n",
       "      <td>0.007897</td>\n",
       "      <td>1.000000</td>\n",
       "      <td>0.859715</td>\n",
       "      <td>0.250582</td>\n",
       "      <td>-0.039384</td>\n",
       "      <td>0.511479</td>\n",
       "    </tr>\n",
       "    <tr>\n",
       "      <th>sales</th>\n",
       "      <td>0.011869</td>\n",
       "      <td>0.859715</td>\n",
       "      <td>1.000000</td>\n",
       "      <td>0.206448</td>\n",
       "      <td>-0.037021</td>\n",
       "      <td>0.426812</td>\n",
       "    </tr>\n",
       "    <tr>\n",
       "      <th>views</th>\n",
       "      <td>0.014069</td>\n",
       "      <td>0.250582</td>\n",
       "      <td>0.206448</td>\n",
       "      <td>1.000000</td>\n",
       "      <td>-0.009534</td>\n",
       "      <td>-0.006130</td>\n",
       "    </tr>\n",
       "    <tr>\n",
       "      <th>leadtime</th>\n",
       "      <td>0.019659</td>\n",
       "      <td>-0.039384</td>\n",
       "      <td>-0.037021</td>\n",
       "      <td>-0.009534</td>\n",
       "      <td>1.000000</td>\n",
       "      <td>-0.030030</td>\n",
       "    </tr>\n",
       "    <tr>\n",
       "      <th>conversion_rate</th>\n",
       "      <td>0.009248</td>\n",
       "      <td>0.511479</td>\n",
       "      <td>0.426812</td>\n",
       "      <td>-0.006130</td>\n",
       "      <td>-0.030030</td>\n",
       "      <td>1.000000</td>\n",
       "    </tr>\n",
       "  </tbody>\n",
       "</table>\n",
       "</div>"
      ],
      "text/plain": [
       "                  product  purchases     sales     views  leadtime  \\\n",
       "product          1.000000   0.007897  0.011869  0.014069  0.019659   \n",
       "purchases        0.007897   1.000000  0.859715  0.250582 -0.039384   \n",
       "sales            0.011869   0.859715  1.000000  0.206448 -0.037021   \n",
       "views            0.014069   0.250582  0.206448  1.000000 -0.009534   \n",
       "leadtime         0.019659  -0.039384 -0.037021 -0.009534  1.000000   \n",
       "conversion_rate  0.009248   0.511479  0.426812 -0.006130 -0.030030   \n",
       "\n",
       "                 conversion_rate  \n",
       "product                 0.009248  \n",
       "purchases               0.511479  \n",
       "sales                   0.426812  \n",
       "views                  -0.006130  \n",
       "leadtime               -0.030030  \n",
       "conversion_rate         1.000000  "
      ]
     },
     "execution_count": 12,
     "metadata": {},
     "output_type": "execute_result"
    }
   ],
   "source": [
    "merged_data.corr(method='pearson')"
   ]
  },
  {
   "cell_type": "code",
   "execution_count": 13,
   "metadata": {},
   "outputs": [
    {
     "data": {
      "text/plain": [
       "<AxesSubplot:xlabel='leadtime'>"
      ]
     },
     "execution_count": 13,
     "metadata": {},
     "output_type": "execute_result"
    },
    {
     "data": {
      "image/png": "[encoded data removed]",
      "text/plain": [
       "<Figure size 432x288 with 1 Axes>"
      ]
     },
     "metadata": {
      "needs_background": "light"
     },
     "output_type": "display_data"
    }
   ],
   "source": [
    "%matplotlib inline\n",
    "filtered_data = merged_data[['leadtime', 'conversion_rate']]\n",
    "filtered_data.plot(x='leadtime', y='conversion_rate', style='o')"
   ]
  },
  {
   "cell_type": "code",
   "execution_count": 14,
   "metadata": {},
   "outputs": [
    {
     "data": {
      "text/html": [
       "<div>\n",
       "<style scoped>\n",
       "    .dataframe tbody tr th:only-of-type {\n",
       "        vertical-align: middle;\n",
       "    }\n",
       "\n",
       "    .dataframe tbody tr th {\n",
       "        vertical-align: top;\n",
       "    }\n",
       "\n",
       "    .dataframe thead th {\n",
       "        text-align: right;\n",
       "    }\n",
       "</style>\n",
       "<table border=\"1\" class=\"dataframe\">\n",
       "  <thead>\n",
       "    <tr style=\"text-align: right;\">\n",
       "      <th></th>\n",
       "      <th>leadtime</th>\n",
       "      <th>avg_conversion_rate</th>\n",
       "      <th>std</th>\n",
       "    </tr>\n",
       "  </thead>\n",
       "  <tbody>\n",
       "    <tr>\n",
       "      <th>0</th>\n",
       "      <td>0</td>\n",
       "      <td>0.004134</td>\n",
       "      <td>0.043101</td>\n",
       "    </tr>\n",
       "    <tr>\n",
       "      <th>1</th>\n",
       "      <td>2</td>\n",
       "      <td>0.000000</td>\n",
       "      <td>0.000000</td>\n",
       "    </tr>\n",
       "    <tr>\n",
       "      <th>2</th>\n",
       "      <td>3</td>\n",
       "      <td>0.007692</td>\n",
       "      <td>0.017201</td>\n",
       "    </tr>\n",
       "    <tr>\n",
       "      <th>3</th>\n",
       "      <td>4</td>\n",
       "      <td>0.018031</td>\n",
       "      <td>0.028258</td>\n",
       "    </tr>\n",
       "    <tr>\n",
       "      <th>4</th>\n",
       "      <td>5</td>\n",
       "      <td>0.000000</td>\n",
       "      <td>0.000000</td>\n",
       "    </tr>\n",
       "    <tr>\n",
       "      <th>...</th>\n",
       "      <td>...</td>\n",
       "      <td>...</td>\n",
       "      <td>...</td>\n",
       "    </tr>\n",
       "    <tr>\n",
       "      <th>136</th>\n",
       "      <td>161</td>\n",
       "      <td>0.018519</td>\n",
       "      <td>0.032075</td>\n",
       "    </tr>\n",
       "    <tr>\n",
       "      <th>137</th>\n",
       "      <td>166</td>\n",
       "      <td>0.000000</td>\n",
       "      <td>0.000000</td>\n",
       "    </tr>\n",
       "    <tr>\n",
       "      <th>138</th>\n",
       "      <td>198</td>\n",
       "      <td>0.000000</td>\n",
       "      <td>0.000000</td>\n",
       "    </tr>\n",
       "    <tr>\n",
       "      <th>139</th>\n",
       "      <td>208</td>\n",
       "      <td>0.000344</td>\n",
       "      <td>0.002597</td>\n",
       "    </tr>\n",
       "    <tr>\n",
       "      <th>140</th>\n",
       "      <td>223</td>\n",
       "      <td>0.000000</td>\n",
       "      <td>0.000000</td>\n",
       "    </tr>\n",
       "  </tbody>\n",
       "</table>\n",
       "<p>141 rows × 3 columns</p>\n",
       "</div>"
      ],
      "text/plain": [
       "     leadtime  avg_conversion_rate       std\n",
       "0           0             0.004134  0.043101\n",
       "1           2             0.000000  0.000000\n",
       "2           3             0.007692  0.017201\n",
       "3           4             0.018031  0.028258\n",
       "4           5             0.000000  0.000000\n",
       "..        ...                  ...       ...\n",
       "136       161             0.018519  0.032075\n",
       "137       166             0.000000  0.000000\n",
       "138       198             0.000000  0.000000\n",
       "139       208             0.000344  0.002597\n",
       "140       223             0.000000  0.000000\n",
       "\n",
       "[141 rows x 3 columns]"
      ]
     },
     "execution_count": 14,
     "metadata": {},
     "output_type": "execute_result"
    }
   ],
   "source": [
    "avg_data = filtered_data.groupby(['leadtime'])['conversion_rate'].mean().reset_index()\n",
    "avg_data = avg_data.rename(columns={'conversion_rate':'avg_conversion_rate'})\n",
    "std_data = filtered_data.groupby(['leadtime'])['conversion_rate'].std().reset_index()\n",
    "avg_data['std'] = std_data['conversion_rate']\n",
    "avg_data"
   ]
  },
  {
   "cell_type": "code",
   "execution_count": 15,
   "metadata": {},
   "outputs": [
    {
     "data": {
      "text/plain": [
       "<AxesSubplot:xlabel='leadtime'>"
      ]
     },
     "execution_count": 15,
     "metadata": {},
     "output_type": "execute_result"
    },
    {
     "data": {
      "image/png": "[encoded data removed]",
      "text/plain": [
       "<Figure size 432x288 with 1 Axes>"
      ]
     },
     "metadata": {
      "needs_background": "light"
     },
     "output_type": "display_data"
    }
   ],
   "source": [
    "avg_data.plot(x='leadtime', y='avg_conversion_rate', style='o')"
   ]
  },
  {
   "cell_type": "code",
   "execution_count": 16,
   "metadata": {},
   "outputs": [
    {
     "data": {
      "text/plain": [
       "<AxesSubplot:xlabel='leadtime'>"
      ]
     },
     "execution_count": 16,
     "metadata": {},
     "output_type": "execute_result"
    },
    {
     "data": {
      "image/png": "[encoded data removed]",
      "text/plain": [
       "<Figure size 432x288 with 1 Axes>"
      ]
     },
     "metadata": {
      "needs_background": "light"
     },
     "output_type": "display_data"
    }
   ],
   "source": [
    "avg_data.plot(x='leadtime', y='avg_conversion_rate', yerr='std', style='o')"
   ]
  },
  {
   "cell_type": "markdown",
   "metadata": {},
   "source": [
    "**Curve fit - Average trend line**"
   ]
  },
  {
   "cell_type": "code",
   "execution_count": 21,
   "metadata": {},
   "outputs": [],
   "source": [
    "from scipy.optimize import curve_fit\n",
    "\n",
    "def curv_func(x, a, b):\n",
    "    return a + b*np.log(x, where=x>0)\n",
    "\n",
    "popt, pcov = curve_fit(curv_func, avg_data['leadtime'].values, avg_data['avg_conversion_rate'].values, maxfev = 1000)"
   ]
  },
  {
   "cell_type": "code",
   "execution_count": 22,
   "metadata": {},
   "outputs": [
    {
     "data": {
      "image/png": "[encoded data removed]",
      "text/plain": [
       "<Figure size 432x288 with 1 Axes>"
      ]
     },
     "metadata": {
      "needs_background": "light"
     },
     "output_type": "display_data"
    }
   ],
   "source": [
    "import matplotlib.pyplot as plt\n",
    "plt.figure()\n",
    "plt.plot(avg_data['leadtime'], avg_data['avg_conversion_rate'], 'ko', label=\"Mean Data\")\n",
    "plt.plot(avg_data['leadtime'], curv_func(avg_data['leadtime'], *popt), 'r-', label=\"Fitted Curve\")\n",
    "plt.legend()\n",
    "plt.show()"
   ]
  },
  {
   "cell_type": "markdown",
   "metadata": {},
   "source": [
    "**Polyfit - Average trend line**"
   ]
  },
  {
   "cell_type": "code",
   "execution_count": 19,
   "metadata": {},
   "outputs": [
    {
     "data": {
      "text/plain": [
       "array([-0.00144825,  0.00812718])"
      ]
     },
     "execution_count": 19,
     "metadata": {},
     "output_type": "execute_result"
    }
   ],
   "source": [
    "y = avg_data['avg_conversion_rate'].values\n",
    "x = avg_data['leadtime'].values\n",
    "\n",
    "z = np.log(x, where=x > 0)\n",
    "#print(y)\n",
    "#print(x)\n",
    "\n",
    "poly_model = np.polyfit(z, y, 1)\n",
    "poly_model"
   ]
  },
  {
   "cell_type": "code",
   "execution_count": 20,
   "metadata": {},
   "outputs": [
    {
     "data": {
      "image/png": "[encoded data removed]",
      "text/plain": [
       "<Figure size 432x288 with 1 Axes>"
      ]
     },
     "metadata": {
      "needs_background": "light"
     },
     "output_type": "display_data"
    }
   ],
   "source": [
    "import matplotlib.pyplot as plt\n",
    "plt.figure()\n",
    "plt.plot(avg_data['leadtime'], avg_data['avg_conversion_rate'], 'ko', label=\"Original Noised Data\")\n",
    "x = avg_data['leadtime'].values\n",
    "plt.plot(x, poly_model[1]+(poly_model[0]*np.log(x, where=x>0)), color='red')\n",
    "plt.show()"
   ]
  },
  {
   "cell_type": "markdown",
   "metadata": {},
   "source": [
    "**Linear (Logarithmic) Regression - Average trend line**"
   ]
  },
  {
   "cell_type": "code",
   "execution_count": 17,
   "metadata": {},
   "outputs": [],
   "source": [
    "from sklearn.preprocessing import PolynomialFeatures\n",
    "from sklearn.linear_model import LinearRegression\n",
    "\n",
    "y = avg_data['avg_conversion_rate'].values\n",
    "x = avg_data['leadtime'].values\n",
    "\n",
    "z = np.log(x, where=x > 0)\n",
    "\n",
    "#y = y.reshape(avg['leadtime'].shape[0], 1)\n",
    "#x = x.reshape(avg['leadtime'].shape[0], 1)\n",
    "\n",
    "z = z.reshape(z.shape[0],1)\n",
    "y = y.reshape(y.shape[0],1)\n",
    "\n",
    "model = LinearRegression()\n",
    "model.fit(z, y)\n",
    "\n",
    "coef = model.coef_\n",
    "intercept = model.intercept_\n"
   ]
  },
  {
   "cell_type": "code",
   "execution_count": 18,
   "metadata": {},
   "outputs": [
    {
     "data": {
      "image/png": "[encoded data removed]",
      "text/plain": [
       "<Figure size 432x288 with 1 Axes>"
      ]
     },
     "metadata": {
      "needs_background": "light"
     },
     "output_type": "display_data"
    }
   ],
   "source": [
    "import matplotlib.pyplot as plt\n",
    "plt.figure()\n",
    "plt.plot(avg_data['leadtime'], avg_data['avg_conversion_rate'], 'ko', label=\"Original Noised Data\")\n",
    "#plt.plot(x, np.exp(-1*(model[1]+(model[0]*x))), color='red')\n",
    "x= avg_data['leadtime']\n",
    "plt.plot(x, intercept+(coef[0]*np.log(x, where=x>0)), color='red')\n",
    "plt.show()"
   ]
  },
  {
   "cell_type": "markdown",
   "metadata": {
    "collapsed": true
   },
   "source": [
    "Filtering through categories"
   ]
  },
  {
   "cell_type": "code",
   "execution_count": 23,
   "metadata": {},
   "outputs": [],
   "source": [
    "df_A = merged_data[merged_data['category'] == 'A']"
   ]
  },
  {
   "cell_type": "code",
   "execution_count": 24,
   "metadata": {},
   "outputs": [
    {
     "data": {
      "text/html": [
       "<div>\n",
       "<style scoped>\n",
       "    .dataframe tbody tr th:only-of-type {\n",
       "        vertical-align: middle;\n",
       "    }\n",
       "\n",
       "    .dataframe tbody tr th {\n",
       "        vertical-align: top;\n",
       "    }\n",
       "\n",
       "    .dataframe thead th {\n",
       "        text-align: right;\n",
       "    }\n",
       "</style>\n",
       "<table border=\"1\" class=\"dataframe\">\n",
       "  <thead>\n",
       "    <tr style=\"text-align: right;\">\n",
       "      <th></th>\n",
       "      <th>product</th>\n",
       "      <th>purchases</th>\n",
       "      <th>sales</th>\n",
       "      <th>views</th>\n",
       "      <th>leadtime</th>\n",
       "      <th>conversion_rate</th>\n",
       "    </tr>\n",
       "  </thead>\n",
       "  <tbody>\n",
       "    <tr>\n",
       "      <th>product</th>\n",
       "      <td>1.000000</td>\n",
       "      <td>-0.003591</td>\n",
       "      <td>0.009050</td>\n",
       "      <td>0.029529</td>\n",
       "      <td>0.013991</td>\n",
       "      <td>-0.023455</td>\n",
       "    </tr>\n",
       "    <tr>\n",
       "      <th>purchases</th>\n",
       "      <td>-0.003591</td>\n",
       "      <td>1.000000</td>\n",
       "      <td>0.876862</td>\n",
       "      <td>0.136722</td>\n",
       "      <td>-0.026017</td>\n",
       "      <td>0.582115</td>\n",
       "    </tr>\n",
       "    <tr>\n",
       "      <th>sales</th>\n",
       "      <td>0.009050</td>\n",
       "      <td>0.876862</td>\n",
       "      <td>1.000000</td>\n",
       "      <td>0.128869</td>\n",
       "      <td>-0.023479</td>\n",
       "      <td>0.473548</td>\n",
       "    </tr>\n",
       "    <tr>\n",
       "      <th>views</th>\n",
       "      <td>0.029529</td>\n",
       "      <td>0.136722</td>\n",
       "      <td>0.128869</td>\n",
       "      <td>1.000000</td>\n",
       "      <td>-0.088589</td>\n",
       "      <td>-0.006120</td>\n",
       "    </tr>\n",
       "    <tr>\n",
       "      <th>leadtime</th>\n",
       "      <td>0.013991</td>\n",
       "      <td>-0.026017</td>\n",
       "      <td>-0.023479</td>\n",
       "      <td>-0.088589</td>\n",
       "      <td>1.000000</td>\n",
       "      <td>-0.014842</td>\n",
       "    </tr>\n",
       "    <tr>\n",
       "      <th>conversion_rate</th>\n",
       "      <td>-0.023455</td>\n",
       "      <td>0.582115</td>\n",
       "      <td>0.473548</td>\n",
       "      <td>-0.006120</td>\n",
       "      <td>-0.014842</td>\n",
       "      <td>1.000000</td>\n",
       "    </tr>\n",
       "  </tbody>\n",
       "</table>\n",
       "</div>"
      ],
      "text/plain": [
       "                  product  purchases     sales     views  leadtime  \\\n",
       "product          1.000000  -0.003591  0.009050  0.029529  0.013991   \n",
       "purchases       -0.003591   1.000000  0.876862  0.136722 -0.026017   \n",
       "sales            0.009050   0.876862  1.000000  0.128869 -0.023479   \n",
       "views            0.029529   0.136722  0.128869  1.000000 -0.088589   \n",
       "leadtime         0.013991  -0.026017 -0.023479 -0.088589  1.000000   \n",
       "conversion_rate -0.023455   0.582115  0.473548 -0.006120 -0.014842   \n",
       "\n",
       "                 conversion_rate  \n",
       "product                -0.023455  \n",
       "purchases               0.582115  \n",
       "sales                   0.473548  \n",
       "views                  -0.006120  \n",
       "leadtime               -0.014842  \n",
       "conversion_rate         1.000000  "
      ]
     },
     "execution_count": 24,
     "metadata": {},
     "output_type": "execute_result"
    }
   ],
   "source": [
    "df_A.corr()"
   ]
  },
  {
   "cell_type": "code",
   "execution_count": null,
   "metadata": {},
   "outputs": [],
   "source": []
  }
 ],
 "metadata": {
  "kernelspec": {
   "display_name": "Python 3 (ipykernel)",
   "language": "python",
   "name": "python3"
  },
  "language_info": {
   "codemirror_mode": {
    "name": "ipython",
    "version": 3
   },
   "file_extension": ".py",
   "mimetype": "text/x-python",
   "name": "python",
   "nbconvert_exporter": "python",
   "pygments_lexer": "ipython3",
   "version": "3.9.12"
  }
 },
 "nbformat": 4,
 "nbformat_minor": 2
}
